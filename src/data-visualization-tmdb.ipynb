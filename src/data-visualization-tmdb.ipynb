{
 "cells": [
  {
   "cell_type": "code",
   "execution_count": 33,
   "metadata": {},
   "outputs": [],
   "source": [
    "import seaborn as sns\n",
    "import pandas as pd\n",
    "\n",
    "tmdb = pd.read_csv(\"fixtures/tmdb/tmdb_5000_movies.csv\")"
   ]
  },
  {
   "cell_type": "code",
   "execution_count": 34,
   "metadata": {},
   "outputs": [],
   "source": [
    "tmdb[\"original_language\"].value_counts()\n",
    "\n",
    "contagem_de_linguas = tmdb[\"original_language\"].value_counts().to_frame().reset_index()\n",
    "\n",
    "contagem_de_linguas.columns = ['original_language', 'total']"
   ]
  },
  {
   "cell_type": "code",
   "execution_count": 35,
   "metadata": {},
   "outputs": [
    {
     "data": {
      "text/plain": [
       "<AxesSubplot:xlabel='original_language', ylabel='total'>"
      ]
     },
     "execution_count": 35,
     "metadata": {},
     "output_type": "execute_result"
    },
    {
     "data": {
      "image/png": "[encoded data removed]",
      "text/plain": [
       "<Figure size 432x288 with 1 Axes>"
      ]
     },
     "metadata": {
      "needs_background": "light"
     },
     "output_type": "display_data"
    }
   ],
   "source": [
    "sns.barplot(x = \"original_language\", y = \"total\", data = contagem_de_linguas)"
   ]
  },
  {
   "cell_type": "code",
   "execution_count": 36,
   "metadata": {},
   "outputs": [
    {
     "data": {
      "text/plain": [
       "([<matplotlib.patches.Wedge at 0x1657d223340>,\n",
       "  <matplotlib.patches.Wedge at 0x1657d2ba250>,\n",
       "  <matplotlib.patches.Wedge at 0x1657d2baca0>,\n",
       "  <matplotlib.patches.Wedge at 0x1657d2ba7f0>,\n",
       "  <matplotlib.patches.Wedge at 0x1657d299df0>,\n",
       "  <matplotlib.patches.Wedge at 0x1657d299130>,\n",
       "  <matplotlib.patches.Wedge at 0x1657d2993d0>,\n",
       "  <matplotlib.patches.Wedge at 0x1657e5f51c0>,\n",
       "  <matplotlib.patches.Wedge at 0x1657e5f5340>,\n",
       "  <matplotlib.patches.Wedge at 0x1657e5f5760>,\n",
       "  <matplotlib.patches.Wedge at 0x1657d223430>,\n",
       "  <matplotlib.patches.Wedge at 0x1657e601b50>,\n",
       "  <matplotlib.patches.Wedge at 0x1657e601850>,\n",
       "  <matplotlib.patches.Wedge at 0x1657d2b0fa0>,\n",
       "  <matplotlib.patches.Wedge at 0x1657d2b0a00>,\n",
       "  <matplotlib.patches.Wedge at 0x1657d2b0280>,\n",
       "  <matplotlib.patches.Wedge at 0x1657e155040>,\n",
       "  <matplotlib.patches.Wedge at 0x1657e61fd30>,\n",
       "  <matplotlib.patches.Wedge at 0x1657e61f730>,\n",
       "  <matplotlib.patches.Wedge at 0x1657e61fa90>,\n",
       "  <matplotlib.patches.Wedge at 0x1657e671400>,\n",
       "  <matplotlib.patches.Wedge at 0x1657e671e20>,\n",
       "  <matplotlib.patches.Wedge at 0x1657e6719d0>,\n",
       "  <matplotlib.patches.Wedge at 0x1657e671220>,\n",
       "  <matplotlib.patches.Wedge at 0x1657e681d60>,\n",
       "  <matplotlib.patches.Wedge at 0x1657e681880>,\n",
       "  <matplotlib.patches.Wedge at 0x1657e151bb0>,\n",
       "  <matplotlib.patches.Wedge at 0x1657e151c10>,\n",
       "  <matplotlib.patches.Wedge at 0x1657e6ae850>,\n",
       "  <matplotlib.patches.Wedge at 0x1657e6297c0>,\n",
       "  <matplotlib.patches.Wedge at 0x1657e629280>,\n",
       "  <matplotlib.patches.Wedge at 0x1657e629e50>,\n",
       "  <matplotlib.patches.Wedge at 0x1657e7192e0>,\n",
       "  <matplotlib.patches.Wedge at 0x1657e3b5970>,\n",
       "  <matplotlib.patches.Wedge at 0x1657e3b53d0>,\n",
       "  <matplotlib.patches.Wedge at 0x1657e3d5cd0>,\n",
       "  <matplotlib.patches.Wedge at 0x1657e3d5c40>],\n",
       " [Text(-1.0791697536499925, 0.2130554923183512, 'en'),\n",
       "  Text(1.0355355017029462, -0.3710339940124459, 'fr'),\n",
       "  Text(1.0579676486019882, -0.3011718023181785, 'es'),\n",
       "  Text(1.0687996606645356, -0.26012936274741094, 'zh'),\n",
       "  Text(1.0773191105706255, -0.22222406260195313, 'de'),\n",
       "  Text(1.0835167978583342, -0.18971386021801853, 'hi'),\n",
       "  Text(1.0875756432724297, -0.16486121484618815, 'ja'),\n",
       "  Text(1.0906010773146022, -0.14348968659882622, 'it'),\n",
       "  Text(1.092883487371409, -0.12492270822755745, 'cn'),\n",
       "  Text(1.0946390911069936, -0.10846778425161549, 'ru'),\n",
       "  Text(1.0960865535188649, -0.09270527058984593, 'ko'),\n",
       "  Text(1.0972054830031333, -0.07835896928789601, 'pt'),\n",
       "  Text(1.097965443340663, -0.06687215586282344, 'da'),\n",
       "  Text(1.0984565010300316, -0.05825217030171998, 'sv'),\n",
       "  Text(1.0987803851616647, -0.0517847968421653, 'nl'),\n",
       "  Text(1.0990363161210686, -0.04603450713357274, 'fa'),\n",
       "  Text(1.0992355702663055, -0.04100196411527794, 'th'),\n",
       "  Text(1.0993880184234357, -0.03668766750546649, 'he'),\n",
       "  Text(1.0995021239019234, -0.033091985965784415, 'ta'),\n",
       "  Text(1.099584941078101, -0.03021518416739545, 'cs'),\n",
       "  Text(1.0996602312343366, -0.027338175536150495, 'ro'),\n",
       "  Text(1.099727993855245, -0.024460979766119193, 'id'),\n",
       "  Text(1.0997882284769684, -0.02158361655264929, 'ar'),\n",
       "  Text(1.0998284639438185, -0.01942549610642471, 'vi'),\n",
       "  Text(1.0998529348820232, -0.01798670707495573, 'sl'),\n",
       "  Text(1.0998755236058106, -0.01654788726224571, 'ps'),\n",
       "  Text(1.0998962300765243, -0.01510903913059323, 'no'),\n",
       "  Text(1.0999150542587282, -0.013670165142345335, 'ky'),\n",
       "  Text(1.0999319961202083, -0.012231267759896247, 'hu'),\n",
       "  Text(1.0999470556319713, -0.01079234944567632, 'pl'),\n",
       "  Text(1.099960232768245, -0.00935341266215563, 'af'),\n",
       "  Text(1.0999715275064792, -0.007914459871831963, 'nb'),\n",
       "  Text(1.0999809398273452, -0.006475493537234394, 'tr'),\n",
       "  Text(1.0999884697147349, -0.005036516120911278, 'is'),\n",
       "  Text(1.0999941171557621, -0.0035975300854338356, 'xx'),\n",
       "  Text(1.0999978821407626, -0.0021585378933851127, 'te'),\n",
       "  Text(1.0999997646632929, -0.0007195420073586872, 'el')])"
      ]
     },
     "execution_count": 36,
     "metadata": {},
     "output_type": "execute_result"
    },
    {
     "data": {
      "image/png": "[encoded data removed]",
      "text/plain": [
       "<Figure size 432x288 with 1 Axes>"
      ]
     },
     "metadata": {},
     "output_type": "display_data"
    }
   ],
   "source": [
    "import matplotlib.pyplot as plt\n",
    "\n",
    "plt.pie(contagem_de_linguas['total'], labels = contagem_de_linguas['original_language'])"
   ]
  },
  {
   "cell_type": "code",
   "execution_count": 37,
   "metadata": {},
   "outputs": [
    {
     "name": "stdout",
     "output_type": "stream",
     "text": [
      "Total de inglês: 4505\n",
      "Total do resto: 298\n",
      "Total geral: 4803\n"
     ]
    }
   ],
   "source": [
    "total_por_lingua = tmdb[\"original_language\"].value_counts()\n",
    "total_geral = total_por_lingua.sum()\n",
    "total_de_ingles = total_por_lingua.loc['en']\n",
    "total_do_resto = total_geral - total_de_ingles\n",
    "\n",
    "print(f'Total de inglês: {total_de_ingles}')\n",
    "print(f'Total do resto: {total_do_resto}')\n",
    "print(f'Total geral: {total_geral}')\n"
   ]
  },
  {
   "cell_type": "markdown",
   "metadata": {},
   "source": [
    "# Dataframe: Inglês vs resto"
   ]
  },
  {
   "cell_type": "code",
   "execution_count": 48,
   "metadata": {},
   "outputs": [
    {
     "name": "stdout",
     "output_type": "stream",
     "text": [
      "{'lingua': ['ingles', 'outros'], 'total': [4505, 298]}\n"
     ]
    },
    {
     "data": {
      "text/html": [
       "<div>\n",
       "<style scoped>\n",
       "    .dataframe tbody tr th:only-of-type {\n",
       "        vertical-align: middle;\n",
       "    }\n",
       "\n",
       "    .dataframe tbody tr th {\n",
       "        vertical-align: top;\n",
       "    }\n",
       "\n",
       "    .dataframe thead th {\n",
       "        text-align: right;\n",
       "    }\n",
       "</style>\n",
       "<table border=\"1\" class=\"dataframe\">\n",
       "  <thead>\n",
       "    <tr style=\"text-align: right;\">\n",
       "      <th></th>\n",
       "      <th>lingua</th>\n",
       "      <th>total</th>\n",
       "    </tr>\n",
       "  </thead>\n",
       "  <tbody>\n",
       "    <tr>\n",
       "      <th>0</th>\n",
       "      <td>ingles</td>\n",
       "      <td>4505</td>\n",
       "    </tr>\n",
       "    <tr>\n",
       "      <th>1</th>\n",
       "      <td>outros</td>\n",
       "      <td>298</td>\n",
       "    </tr>\n",
       "  </tbody>\n",
       "</table>\n",
       "</div>"
      ],
      "text/plain": [
       "   lingua  total\n",
       "0  ingles   4505\n",
       "1  outros    298"
      ]
     },
     "execution_count": 48,
     "metadata": {},
     "output_type": "execute_result"
    }
   ],
   "source": [
    "dados = {\n",
    "  'lingua': ['ingles', 'outros'],\n",
    "  'total': [total_de_ingles, total_do_resto]\n",
    "}\n",
    "\n",
    "print(dados)\n",
    "\n",
    "pd.DataFrame(dados)"
   ]
  },
  {
   "cell_type": "code",
   "execution_count": 49,
   "metadata": {},
   "outputs": [
    {
     "data": {
      "text/plain": [
       "<AxesSubplot:>"
      ]
     },
     "execution_count": 49,
     "metadata": {},
     "output_type": "execute_result"
    },
    {
     "data": {
      "image/png": "[encoded data removed]",
      "text/plain": [
       "<Figure size 432x288 with 1 Axes>"
      ]
     },
     "metadata": {
      "needs_background": "light"
     },
     "output_type": "display_data"
    }
   ],
   "source": [
    "sns.barplot(x = \"lingua\", y = \"total\", data = dados)"
   ]
  }
 ],
 "metadata": {
  "interpreter": {
   "hash": "76a9b06e395c27944997c0baffd01ce097b273a469b62c262397f0231866b12a"
  },
  "kernelspec": {
   "display_name": "Python 3.9.6 64-bit",
   "language": "python",
   "name": "python3"
  },
  "language_info": {
   "codemirror_mode": {
    "name": "ipython",
    "version": 3
   },
   "file_extension": ".py",
   "mimetype": "text/x-python",
   "name": "python",
   "nbconvert_exporter": "python",
   "pygments_lexer": "ipython3",
   "version": "3.9.6"
  },
  "orig_nbformat": 4
 },
 "nbformat": 4,
 "nbformat_minor": 2
}
